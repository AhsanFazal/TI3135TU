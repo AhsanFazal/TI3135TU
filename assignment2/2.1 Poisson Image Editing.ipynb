{
 "cells": [
  {
   "cell_type": "code",
   "execution_count": null,
   "metadata": {
    "deletable": false,
    "editable": false,
    "nbgrader": {
     "cell_type": "code",
     "checksum": "ee84f579c60eaab01dfe768141970d4f",
     "grade": false,
     "grade_id": "cell-dec54717f888db51",
     "locked": true,
     "schema_version": 3,
     "solution": false
    }
   },
   "outputs": [],
   "source": [
    "%matplotlib widget\n",
    "import matplotlib.pyplot as plt\n",
    "import numpy as np\n",
    "import cv2\n",
    "import scipy.signal\n",
    "import scipy.ndimage\n",
    "import scipy.sparse\n",
    "import os\n",
    "# helpers.py is one level up in the directory structure so we need to tell Python were to find it\n",
    "import sys\n",
    "sys.path.append(\"../../\")\n",
    "import helpers"
   ]
  },
  {
   "cell_type": "markdown",
   "metadata": {
    "deletable": false,
    "editable": false,
    "nbgrader": {
     "cell_type": "markdown",
     "checksum": "768e75d8e67ed56801e29e6e1c6e0e7f",
     "grade": false,
     "grade_id": "cell-ac26bd2aec388619",
     "locked": true,
     "schema_version": 3,
     "solution": false
    }
   },
   "source": [
    "# Gradient Based Image Blending\n",
    "In this notebook you will implement gradient based image blending, which was originaly was described in the paper [Poisson Image Editing]( https://www.cs.virginia.edu/~connelly/class/2014/comp_photo/proj2/poisson.pdf). The goal of gradient based image blending is to copy a region of one image (source image) into another image (target image) without creating visible seams at the edge of the region.\n",
    "\n",
    "**NOTE** In this exercise, we implement a version of the gradient based image blending scheme that is a bit simpler than what was discussed in the lecture. The difference is that we do not need to distinguish between inner and boundary gradients but only need one gradient matrix for the region to be filled.\n",
    "\n",
    "As was covered in the lecture, the idea behind gradient based image blending is to find new pixel values such that the gradients of the source image are retained while making sure that there is no visible seam at the boundary of the avected region. We will now define this more formally. Let $I$ denote the set of pixels of the region to be filled, $B$ the set of boundary pixels and $g_i$ and $\\tilde{g_i}$ denote the output and source gradients within the region to be filled respectively.\n",
    "\n",
    "$$\n",
    "\\begin{align}\n",
    "& \\underset{U}{\\text{minimize}}\n",
    "& & f(U) = \\sum\\limits_{i \\in I} {\\lvert g_i - \\tilde{g_i} \\rvert}^2 + c_{\\tilde{u}} \\sum\\limits_{i \\in B} {\\lvert U - \\tilde{U_t} \\rvert}^2\n",
    "\\end{align}\n",
    "$$\n",
    "\n",
    "We can rewrite $f(U)$ using only matrix operations. Let $S$ be the selector matrix which selects all pixels on the boundary, $U$ the vector containing the output pixel values (in the region to be filled), $\\tilde{U_s}$ the source pixel values (in the region to be filled) and $\\tilde{U_t}$ the target pixel values (in the region to be filled). Let $G$ be the gradient matrix for the region to be filled. With the the gradient defined as  $g=GU$ we can derive the following quadratic polynomial:\n",
    "\n",
    "$$\n",
    "f(U) = {\\lvert GU - G\\tilde{U_s} \\rvert}^2 + c_{\\tilde{u}} {\\lvert SU - S\\tilde{U_t} \\rvert}^2 \\\\\n",
    "f(U) = (U^TG^T - \\tilde{U_s}^TG^T) (GU-G\\tilde{U_s}) + c_{\\tilde{u}} (U^TS^T - \\tilde{U_t}^TS^T)(SU - S\\tilde{U_t}) \\\\\n",
    "f(U) = U^T(G^TG)U - 2U^T(G^TG\\tilde{U_s}) + \\tilde{U_s}^TG^TG\\tilde{U_s} + c_{\\tilde{u}} (U^TS^TSU - 2U^TS^TS\\tilde{U_t} + \\tilde{U_t}^TS^TS\\tilde{U_t}) \\\\\n",
    "f(U) = U^T(G^TG + c_{\\tilde{u}} S^TS)U - 2U^T(G^TG\\tilde{U_s} + c_{\\tilde{u}} S^TS\\tilde{U_t}) + \\tilde{U_s}^TG^TG\\tilde{U_s} + c_{\\tilde{u}} \\tilde{U_t}^TS^TS\\tilde{U_t} \\\\\n",
    "$$\n",
    "\n",
    "We want to minimize the objective function and we know that at the minimum the derivative $f'(U)=0$. Using this knoweldge we can transform the problem into a linear system:\n",
    "\n",
    "$$\n",
    "f'(U) = 2(G^TG + c_{\\tilde{u}} S^TS)U - 2(G^TG\\tilde{U_s} + c_{\\tilde{u}} S^TS\\tilde{U_t}) = 0 \\\\\n",
    "(G^TG + c_{\\tilde{u}} S^TS)U = G^TG\\tilde{U_s} + c_{\\tilde{u}} S^TS\\tilde{U_t} \\\\\n",
    "%(L + c_{\\tilde{u}} S^TS)U = L\\tilde{U_s} + c_{\\tilde{u}} S^TS\\tilde{U_t}\n",
    "$$"
   ]
  },
  {
   "cell_type": "markdown",
   "metadata": {
    "deletable": false,
    "editable": false,
    "nbgrader": {
     "cell_type": "markdown",
     "checksum": "973595f937725e4551a18417eadd5e42",
     "grade": false,
     "grade_id": "cell-4dc2e4da5951a0d7",
     "locked": true,
     "schema_version": 3,
     "solution": false,
     "task": false
    }
   },
   "source": [
    "### Initialization\n",
    "The following code loads the images that we will use for the image blending exercises."
   ]
  },
  {
   "cell_type": "code",
   "execution_count": null,
   "metadata": {
    "deletable": false,
    "editable": false,
    "nbgrader": {
     "cell_type": "code",
     "checksum": "2a6ad1ca1e15cb6b0bf4876c7ea5a12c",
     "grade": false,
     "grade_id": "cell-12a6a337e89190a1",
     "locked": true,
     "schema_version": 3,
     "solution": false
    }
   },
   "outputs": [],
   "source": [
    "swan_image_color = helpers.imread_normalized_float(os.path.join(helpers.dataset_folder, \"week2\", \"poisson\", \"swan_on_beach\", \"swan.jpg\"), 0.5)\n",
    "beach_image_color = helpers.imread_normalized_float(os.path.join(helpers.dataset_folder, \"week2\", \"poisson\", \"swan_on_beach\", \"beach.jpg\"), 0.5)\n",
    "swan_beach_mask = helpers.imread_normalized_float_grayscale(os.path.join(helpers.dataset_folder, \"week2\", \"poisson\", \"swan_on_beach\", \"mask.jpg\"), 0.5)\n",
    "swan_beach_mask = (swan_beach_mask < 0.5)\n",
    "\n",
    "helpers.show_images({ \"Source\": swan_image_color, \"Target\": beach_image_color,  \"Mask\": swan_beach_mask}, nrows=1, ncols=3)"
   ]
  },
  {
   "cell_type": "markdown",
   "metadata": {
    "deletable": false,
    "editable": false,
    "nbgrader": {
     "cell_type": "markdown",
     "checksum": "703d34be4bf1d0a49fee2414a5d09245",
     "grade": false,
     "grade_id": "cell-465714ce1c1dd148",
     "locked": true,
     "schema_version": 3,
     "solution": false
    }
   },
   "source": [
    "## Exercise 3 (1 point)\n",
    "Implement a function that returns the gradient matrix G. This matrix when multiplied by the (single color channel) image vector should result in a vector with all the gradients, both horizontal & vertical, between neighbouring pixels which are both **inside the mask** (pixels at which `mask[y,x] != 0`). We define the gradient between a pixel $U_i$ and neighbouring pixel $U_j$ as $\\frac{1}{2} (U_j - U_i)$. Use `scipy.sparse.lil_matrix((num_rows, num_columns))` to construct a sparse matrix and convert it to `scipy.sparse.csr_matrix` before returning it. **Please refer to the image sharpening notebook on the order in which the gradients should appear**."
   ]
  },
  {
   "cell_type": "code",
   "execution_count": null,
   "metadata": {
    "deletable": false,
    "nbgrader": {
     "cell_type": "code",
     "checksum": "00703771f342d15e4169eb23f1381eb7",
     "grade": false,
     "grade_id": "exercise3_code",
     "locked": false,
     "schema_version": 3,
     "solution": true
    }
   },
   "outputs": [],
   "source": [
    "def construct_G(mask):\n",
    "    # YOUR CODE HERE\n",
    "    raise NotImplementedError()\n",
    "    # Convert scipy.sparse.lil_matrix to scipy.sparse.csr_matrix for efficient processing\n",
    "    return scipy.sparse.csr_matrix(G)"
   ]
  },
  {
   "cell_type": "markdown",
   "metadata": {
    "deletable": false,
    "editable": false,
    "nbgrader": {
     "cell_type": "markdown",
     "checksum": "0a5153230d784f6eb951c7203e515de6",
     "grade": false,
     "grade_id": "cell-b0590ccbd2369a4e",
     "locked": true,
     "schema_version": 3,
     "solution": false,
     "task": false
    }
   },
   "source": [
    "### Testing your solution of exercise 3\n",
    "This code visualizes the gradients generated by your $G$ matrix. With `construct_G` implemented it should show the gradient magnitudes of the bird image. The cell below checks that the gradient matrix you return has the correct type."
   ]
  },
  {
   "cell_type": "code",
   "execution_count": null,
   "metadata": {
    "tags": []
   },
   "outputs": [],
   "source": [
    "def construct_U(image, mask):\n",
    "    indices = np.nonzero(np.invert(mask))\n",
    "    return image[indices].flatten()\n",
    "\n",
    "# Convert a gradient vector for a given mask into an image visualizing the gradient magnitude\n",
    "def gradient_to_image(g, mask):\n",
    "    out_image = np.zeros(mask.shape)\n",
    "    \n",
    "    # gx**2 at each pixel\n",
    "    i = 0\n",
    "    for (y, x) in zip(*np.nonzero(np.invert(mask))):\n",
    "        if not mask[y, x+1]:\n",
    "            out_image[y, x] += g[i]**2\n",
    "            i += 1\n",
    "            \n",
    "    # gy**2 at each pixel\n",
    "    for (y, x) in zip(*np.nonzero(np.invert(mask))):\n",
    "        if not mask[y+1, x]:\n",
    "            out_image[y, x] += g[i]**2\n",
    "            i += 1\n",
    "    \n",
    "    return np.sqrt(out_image)\n",
    "\n",
    "green_channel = swan_image_color[:,:,1]\n",
    "G = construct_G(swan_beach_mask)\n",
    "u = construct_U(green_channel, swan_beach_mask)\n",
    "g = G * u\n",
    "\n",
    "gradient_image = gradient_to_image(g, swan_beach_mask)\n",
    "\n",
    "# Increase contrast to make it easier to spot the gradients\n",
    "gradient_image = np.clip(5 * gradient_image, 0, 1)\n",
    "\n",
    "helpers.show_image(gradient_image, \"Gradient magnitude (your solution)\")"
   ]
  },
  {
   "cell_type": "code",
   "execution_count": null,
   "metadata": {},
   "outputs": [],
   "source": [
    "# Test on a simple 2x2 mask\n",
    "dummy_mask = np.ones((4,4)).astype(bool)\n",
    "for y in range(1, 3):\n",
    "    for x in range(1, 3):\n",
    "        dummy_mask[y, x] = 0\n",
    "G = construct_G(dummy_mask)\n",
    "assert(type(G) == scipy.sparse.csr_matrix)\n",
    "\n",
    "# You can add more tests here."
   ]
  },
  {
   "cell_type": "code",
   "execution_count": null,
   "metadata": {
    "deletable": false,
    "editable": false,
    "nbgrader": {
     "cell_type": "code",
     "checksum": "ca73e7be4c42ed2d8e4f85dbc0b7ace7",
     "grade": true,
     "grade_id": "exercise3",
     "locked": true,
     "points": 1,
     "schema_version": 3,
     "solution": false,
     "task": false
    }
   },
   "outputs": [],
   "source": [
    "# DO NOT REMOVE THIS CELL"
   ]
  },
  {
   "cell_type": "markdown",
   "metadata": {
    "deletable": false,
    "editable": false,
    "nbgrader": {
     "cell_type": "markdown",
     "checksum": "ddb1d772029a6135429c012a319266cc",
     "grade": false,
     "grade_id": "cell-67abb89dc08ee874",
     "locked": true,
     "schema_version": 3,
     "solution": false
    }
   },
   "source": [
    "## Exercise 4 (1 point)\n",
    "Now implement a function that returns the selector matrix $S$. The selector matrix selects only those pixels from the mask that lie on the boundary. Hence, the number of rows should match the number of boundary pixels and the number of columns should match the number of pixels inside the mask. A pixel is inside the mask if `mask[x,y] != 0`. Each row should have exactly one entry (set to $1.0$) which corresponds to the next boundary pixel.\n",
    "\n",
    "A pixel (inside the mask) is on the boundary if any of it's 4-connected (left, top, right, bottom) neighbours is outside the mask. Again, make sure to construct $S$ as a `scipy.sparse.lil_matrix` matrix and convert it to a `scipy.sparse.csr_matrix` before returning.\n",
    "\n",
    "\n",
    "**WARNING**: the grading script requires the entries of $S$ to be ordered in a specific way. Make sure that the boundary pixels are selected from left to right, and top to bottom."
   ]
  },
  {
   "cell_type": "code",
   "execution_count": null,
   "metadata": {
    "deletable": false,
    "nbgrader": {
     "cell_type": "code",
     "checksum": "331553ce639a37c1e0872f88672a3b0f",
     "grade": false,
     "grade_id": "exercise4_code",
     "locked": false,
     "schema_version": 3,
     "solution": true
    }
   },
   "outputs": [],
   "source": [
    "def construct_S(mask):\n",
    "    # YOUR CODE HERE\n",
    "    raise NotImplementedError()\n",
    "    return scipy.sparse.csr_matrix(S)"
   ]
  },
  {
   "cell_type": "markdown",
   "metadata": {
    "deletable": false,
    "editable": false,
    "nbgrader": {
     "cell_type": "markdown",
     "checksum": "3b20405f58dbea84165ff47323aef768",
     "grade": false,
     "grade_id": "cell-d3c6199508afe914",
     "locked": true,
     "schema_version": 3,
     "solution": false,
     "task": false
    }
   },
   "source": [
    "### Testing your solution of exercise 4\n",
    "The matrix S should select the boundary pixels from the vector of masked pixels. We provide a basic test to check if the matrix you returned has the correct size."
   ]
  },
  {
   "cell_type": "code",
   "execution_count": null,
   "metadata": {
    "deletable": false,
    "editable": false,
    "nbgrader": {
     "cell_type": "code",
     "checksum": "0ee8e41b39de9b1b45093c53dbb3803d",
     "grade": true,
     "grade_id": "exercise4",
     "locked": true,
     "points": 1,
     "schema_version": 3,
     "solution": false,
     "task": false
    },
    "tags": []
   },
   "outputs": [],
   "source": [
    "# Check if matrix has the correct size\n",
    "S = construct_S(swan_beach_mask)\n",
    "assert(type(S) == scipy.sparse.csr_matrix)\n",
    "assert(S.shape == (316, 3118))\n",
    "\n",
    "# DO NOT REMOVE THIS CELL\n",
    "import grading\n",
    "#grading.store_function(os.path.join(helpers.dataset_folder, \"grading\", \"week2\", \"poisson\", \"construct_S.py\"), construct_S)\n"
   ]
  },
  {
   "cell_type": "markdown",
   "metadata": {
    "deletable": false,
    "editable": false,
    "nbgrader": {
     "cell_type": "markdown",
     "checksum": "62910352203ff3e37c1f106947190174",
     "grade": false,
     "grade_id": "cell-c003bde958468a56",
     "locked": true,
     "schema_version": 3,
     "solution": false
    }
   },
   "source": [
    "## Exercise 5 (1 point)\n",
    "We now have all the matrices required to formulate the linear system. To operate on color images, seamless cloning can be applied to each color channel individually. Implement a function that performs a seamless clone on a single color channel by solving the linear system described above (using `scipy.sparse.linalg.solve`). The inputs of this function are a single color channel of the source, target and mask images (all with the same shape) and $c_{\\tilde{u}}$ to indicate the strength of the boundary constraint. The function should return the final result of that color channel (as a 2D numpy array).\n",
    "\n",
    "**NOTE**: For grading we use the reference implementation of `construct_S()` and `construct_G()` to ensure that you are not punished for mistakes in the previous exercises."
   ]
  },
  {
   "cell_type": "code",
   "execution_count": null,
   "metadata": {
    "deletable": false,
    "nbgrader": {
     "cell_type": "code",
     "checksum": "79856a1ce4f16893d319aadd5b3f2879",
     "grade": false,
     "grade_id": "exercise5_code",
     "locked": false,
     "schema_version": 3,
     "solution": true
    }
   },
   "outputs": [],
   "source": [
    "def seamless_clone_channel(source, target, mask, cu):\n",
    "    # YOUR CODE HERE\n",
    "    raise NotImplementedError()\n",
    "\n",
    "def seamless_clone(source_image, target_image, mask, cu):\n",
    "    red_channel = seamless_clone_channel(source_image[:,:,0], target_image[:,:,0], mask, cu)\n",
    "    green_channel = seamless_clone_channel(source_image[:,:,1], target_image[:,:,1], mask, cu)\n",
    "    blue_channel = seamless_clone_channel(source_image[:,:,2], target_image[:,:,2], mask, cu)\n",
    "    return np.stack([red_channel, green_channel, blue_channel], axis=2)\n",
    "\n",
    "result_image = seamless_clone(swan_image_color, beach_image_color, swan_beach_mask, 0.5)\n",
    "result_image = np.clip(result_image, 0, 1)\n",
    "\n",
    "helpers.show_image(result_image, \"Seamlessly cloned image (your solution)\")"
   ]
  },
  {
   "cell_type": "markdown",
   "metadata": {
    "deletable": false,
    "editable": false,
    "nbgrader": {
     "cell_type": "markdown",
     "checksum": "ea57a1f16c5912c09b2a685f7bf561e7",
     "grade": false,
     "grade_id": "cell-08a4fd7d7f92ed06",
     "locked": true,
     "schema_version": 3,
     "solution": false,
     "task": false
    }
   },
   "source": [
    "### Testing your solution of exercise 5\n",
    "After implementing exercise 5 the image above should show the girl on the beach with the bird filled in. The bird will appear yellow-ish to match the tone of the environment."
   ]
  },
  {
   "cell_type": "code",
   "execution_count": null,
   "metadata": {
    "deletable": false,
    "editable": false,
    "nbgrader": {
     "cell_type": "code",
     "checksum": "301254eb4d9bd0adc80bf788706f7d0a",
     "grade": true,
     "grade_id": "exercise",
     "locked": true,
     "points": 1,
     "schema_version": 3,
     "solution": false,
     "task": false
    },
    "tags": []
   },
   "outputs": [],
   "source": [
    "# DO NOT REMOVE THIS CELL"
   ]
  },
  {
   "cell_type": "markdown",
   "metadata": {
    "deletable": false,
    "editable": false,
    "nbgrader": {
     "cell_type": "markdown",
     "checksum": "62debcb9e018172f7d06718f79dec689",
     "grade": false,
     "grade_id": "cell-646c0805cfeb8a1b",
     "locked": true,
     "schema_version": 3,
     "solution": false
    }
   },
   "source": [
    "# Extra Exercises (Mixed Gradients)\n",
    "The previous exercises are enough to get you a passing grade. However, to get a $10$ you need to show that you have mastered the topic. Therefore, we introduce the following extra exercises which are considered a bit more challenging. You need to complete these without the help of the teaching assistants (TAs). **You not allowed to ask the TAs for help with the extra exercises**. However, you can report bugs by sending us an e-mail at `vdp-cs-ewi@tudelft.nl`.\n",
    "\n",
    "The result of our seamless cloning looks convincing when the masked region of the target image does not contain a lot of detail, like in the example images that we used above. However, when we apply our technique to a highly textured target image then the resulting image will look blurry. This happens because we completely ignore the targets gradients, replacing them by the source gradient. In this case the source gradients are low (the drawing has a smooth background) meaning the linear system will smoothly interpolate between the boundaries."
   ]
  },
  {
   "cell_type": "code",
   "execution_count": null,
   "metadata": {
    "deletable": false,
    "editable": false,
    "nbgrader": {
     "cell_type": "code",
     "checksum": "b3d37d7b41359d5d03956411c8e6d838",
     "grade": false,
     "grade_id": "cell-42d96904a26dd410",
     "locked": true,
     "schema_version": 3,
     "solution": false
    }
   },
   "outputs": [],
   "source": [
    "drawing_image_color = helpers.imread_normalized_float(os.path.join(helpers.dataset_folder, \"week2\", \"poisson\", \"drawing_on_sign\", \"drawing.jpg\"), 0.5)\n",
    "sign_image_color = helpers.imread_normalized_float(os.path.join(helpers.dataset_folder, \"week2\", \"poisson\", \"drawing_on_sign\", \"sign.png\"), 0.5)\n",
    "drawing_sign_mask = helpers.imread_normalized_float_grayscale(os.path.join(helpers.dataset_folder, \"week2\", \"poisson\", \"drawing_on_sign\", \"mask.jpg\"), 0.5)\n",
    "drawing_sign_mask = (drawing_sign_mask < 0.5)\n",
    "\n",
    "result_color = seamless_clone(drawing_image_color, sign_image_color, drawing_sign_mask, 0.5)\n",
    "result_color = np.clip(result_color, 0, 1)\n",
    "helpers.show_image(result_color, title=\"Result\")"
   ]
  },
  {
   "cell_type": "markdown",
   "metadata": {
    "deletable": false,
    "editable": false,
    "nbgrader": {
     "cell_type": "markdown",
     "checksum": "d458fa883805a1caffeac486e4da840d",
     "grade": false,
     "grade_id": "cell-3ef3180927e312a5",
     "locked": true,
     "schema_version": 3,
     "solution": false
    }
   },
   "source": [
    "If the source image has a flat background like in this example than we can improve the result by mixing the gradients of the source and target image. We modify the equation such that at each pixel the gradient (between the pixel and its left/bot neighbours) should match that of either the source or the target, whichever has the highest magnitude.\n",
    "\n",
    "$$\n",
    "f(U) = {\\lvert GU - \\tilde{V} \\rvert}^2 + c_{\\tilde{u}} {\\lvert SU - S\\tilde{U_t} \\rvert}^2 \\\\\n",
    "f(U) = (U^TG^T - \\tilde{V}^T) (GU-\\tilde{V}) + c_{\\tilde{u}} (U^TS^T - \\tilde{U_t}^TS^T)(SU - S\\tilde{U_t}) \\\\\n",
    "f(U) = U^T(G^TG)U - 2U^T(G^T\\tilde{V}) + \\tilde{V}^T\\tilde{V} + c_{\\tilde{u}} (U^TS^TSU - 2U^TS^TS\\tilde{U_t} + \\tilde{U_t}S^TS\\tilde{U_t}) \\\\\n",
    "f(U) = U^T(G^TG + c_{\\tilde{u}} S^TS)U - 2U^T(G^T\\tilde{V} + c_{\\tilde{u}} S^TS\\tilde{U_t}) + \\tilde{V}^T\\tilde{V} + c_{\\tilde{u}} \\tilde{U_t}S^TS\\tilde{U_t} \\\\\n",
    "$$\n",
    "\n",
    "Here $\\tilde{V}$ is the gradient vector containing $max(\\tilde{g_{source}}, \\tilde{g_{target}})$. We want to minimize the objective function so we need to find where the derivative is zero:\n",
    "\n",
    "$$\n",
    "f'(U) = 2(G^TG + c_{\\tilde{u}} S^TS)U - 2(G^T\\tilde{V} + c_{\\tilde{u}} S^TS\\tilde{U_t}) = 0 \\\\\n",
    "(G^TG + c_{\\tilde{u}} S^TS)U = G^T\\tilde{V} + c_{\\tilde{u}} S^TS\\tilde{U_t} \\\\\n",
    "%(L + c_{\\tilde{u}} S^TS)U = G^T\\tilde{V} + c_{\\tilde{u}} S^TS\\tilde{U_t}\n",
    "$$\n",
    "\n",
    "## Exercise 6 (1 point)\n",
    "Implement a function that computes the vector $V$ which contains the desired output gradients. For each pixel in the masked region compute the partial derivatives ($g_x$ and $g_y$) between it and its right/bottom neighbours for both the source and the target image. Store the partial derivatives from either the source or the target image based on whichever has the highest gradient magnitude ($\\lvert{g}\\rvert=\\sqrt{g_x^2+g_y^2}$). Do not store a partial derivative if the associated neighbour is not in the mask. You are free to ignore the edge case of the masked region containing pixels on the boundary of the image."
   ]
  },
  {
   "cell_type": "code",
   "execution_count": null,
   "metadata": {
    "deletable": false,
    "nbgrader": {
     "cell_type": "code",
     "checksum": "e47c0cfa081a53b01484f0320a303761",
     "grade": false,
     "grade_id": "exercise6_code",
     "locked": false,
     "schema_version": 3,
     "solution": true,
     "task": false
    }
   },
   "outputs": [],
   "source": [
    "def construct_V(source, target, mask):\n",
    "    # YOUR CODE HERE\n",
    "    raise NotImplementedError()"
   ]
  },
  {
   "cell_type": "markdown",
   "metadata": {
    "deletable": false,
    "editable": false,
    "nbgrader": {
     "cell_type": "markdown",
     "checksum": "301cf6a7b4e1eb51e076745861a1e422",
     "grade": false,
     "grade_id": "cell-cda485bb2baf4b89",
     "locked": true,
     "schema_version": 3,
     "solution": false,
     "task": false
    }
   },
   "source": [
    "### Testing your solution of exercise 6\n",
    "Here you can write some code to test your solution."
   ]
  },
  {
   "cell_type": "code",
   "execution_count": null,
   "metadata": {
    "tags": []
   },
   "outputs": [],
   "source": [
    "source_g = drawing_image_color[:,:,1]\n",
    "target_g = sign_image_color[:,:,1]\n",
    "\n",
    "V = construct_V(source_g, target_g, drawing_sign_mask)\n",
    "\n",
    "mixed_gradient_image = gradient_to_image(V, drawing_sign_mask)\n",
    "mixed_gradient_image = np.clip(5 * mixed_gradient_image, 0, 1) # Increase contrast\n",
    "\n",
    "helpers.show_image(mixed_gradient_image, \"Gradient magnitude\")"
   ]
  },
  {
   "cell_type": "code",
   "execution_count": null,
   "metadata": {
    "deletable": false,
    "editable": false,
    "nbgrader": {
     "cell_type": "code",
     "checksum": "235ac3789a9dafb7ccf69d2d496ea823",
     "grade": true,
     "grade_id": "exercise6",
     "locked": true,
     "points": 1,
     "schema_version": 3,
     "solution": false,
     "task": false
    },
    "tags": []
   },
   "outputs": [],
   "source": [
    "# DO NOT REMOVE THIS CELL"
   ]
  },
  {
   "cell_type": "markdown",
   "metadata": {
    "deletable": false,
    "editable": false,
    "nbgrader": {
     "cell_type": "markdown",
     "checksum": "c45536953c14926a64d72046bc71262b",
     "grade": false,
     "grade_id": "cell-289928114a96867e",
     "locked": true,
     "schema_version": 3,
     "solution": false
    }
   },
   "source": [
    "## Exercise 7 (1 point)\n",
    "Implement seamless cloning with mixed gradients using the formula given above. Like with the basic seamless cloning the process is applied to each color channel individually. Use `scipy.sparse.linalg.spsolve()` to solve the linear system.\n",
    "\n",
    "**NOTE**: For grading we use the reference implementation of `construct_S()`, `construct_G()` and `construct_V()` to ensure that you are not punished for mistakes in the previous exercises."
   ]
  },
  {
   "cell_type": "code",
   "execution_count": null,
   "metadata": {
    "deletable": false,
    "nbgrader": {
     "cell_type": "code",
     "checksum": "2ba3ba8b7ad51a85614bec202b079478",
     "grade": false,
     "grade_id": "exercise7_code",
     "locked": false,
     "schema_version": 3,
     "solution": true,
     "task": false
    }
   },
   "outputs": [],
   "source": [
    "def seamless_clone_mixed_gradient_color(source, target, mask, cu):\n",
    "    # YOUR CODE HERE\n",
    "    raise NotImplementedError()\n",
    "\n",
    "def seamless_clone_mixed_gradient(source_image, target_image, mask, cu):\n",
    "    red_channel = seamless_clone_mixed_gradient_color(source_image[:,:,0], target_image[:,:,0], mask, cu)\n",
    "    green_channel = seamless_clone_mixed_gradient_color(source_image[:,:,1], target_image[:,:,1], mask, cu)\n",
    "    blue_channel = seamless_clone_mixed_gradient_color(source_image[:,:,2], target_image[:,:,2], mask, cu)\n",
    "    return np.stack([red_channel, green_channel, blue_channel], axis=2)"
   ]
  },
  {
   "cell_type": "markdown",
   "metadata": {
    "deletable": false,
    "editable": false,
    "nbgrader": {
     "cell_type": "markdown",
     "checksum": "9d7a2221437deca051daa5827bfb535b",
     "grade": false,
     "grade_id": "cell-fc83f77a7b13ab0d",
     "locked": true,
     "schema_version": 3,
     "solution": false,
     "task": false
    }
   },
   "source": [
    "### Testing your solution of exercise 7\n",
    "Here you can write some code to test your solution."
   ]
  },
  {
   "cell_type": "code",
   "execution_count": null,
   "metadata": {
    "tags": []
   },
   "outputs": [],
   "source": [
    "result = seamless_clone_mixed_gradient(drawing_image_color, sign_image_color, drawing_sign_mask, 1)\n",
    "result = np.clip(result, 0, 1)\n",
    "helpers.show_image(result, \"Final Result\")"
   ]
  },
  {
   "cell_type": "code",
   "execution_count": null,
   "metadata": {
    "deletable": false,
    "editable": false,
    "nbgrader": {
     "cell_type": "code",
     "checksum": "cb707ffbdc80c0c5ea21fcaa014daf07",
     "grade": true,
     "grade_id": "exercise7",
     "locked": true,
     "points": 1,
     "schema_version": 3,
     "solution": false,
     "task": false
    },
    "tags": []
   },
   "outputs": [],
   "source": [
    "# DO NOT REMOVE THIS CELL"
   ]
  }
 ],
 "metadata": {
  "kernelspec": {
   "display_name": "Python 3 (ipykernel)",
   "language": "python",
   "name": "python3"
  },
  "language_info": {
   "codemirror_mode": {
    "name": "ipython",
    "version": 3
   },
   "file_extension": ".py",
   "mimetype": "text/x-python",
   "name": "python",
   "nbconvert_exporter": "python",
   "pygments_lexer": "ipython3",
   "version": "3.10.6"
  }
 },
 "nbformat": 4,
 "nbformat_minor": 4
}
