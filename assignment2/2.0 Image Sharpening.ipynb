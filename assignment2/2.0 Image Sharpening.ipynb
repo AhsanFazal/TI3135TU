{
 "cells": [
  {
   "cell_type": "markdown",
   "metadata": {
    "deletable": false,
    "editable": false,
    "nbgrader": {
     "cell_type": "markdown",
     "checksum": "ab45eaa7cc410306522789c4db51ef07",
     "grade": false,
     "grade_id": "cell-1d379430a4b03c57",
     "locked": true,
     "schema_version": 3,
     "solution": false,
     "task": false
    },
    "tags": []
   },
   "source": [
    "# Assignment 2\n",
    "This assignment consists of two notebook files. Each exercise is graded using *hidden* tests. If you pass these tests then you are rewarded *full points* for that exercise; if your code fails the tests in any way then you will get *no points* for that exercise. Make sure to **read the rules** before you start the assignment.\n",
    "\n",
    "## Rules\n",
    "For this assignment the following rules apply:\n",
    "\n",
    "**General**\n",
    " * The assignment should be completed in **groups of two or three** (enroll in a group on Brightspace).\n",
    " * Any kind of intergroup discussion will be considered fraud and both the parties will be punished.\n",
    " * All code must be written intra group. All external help, with the exception of Python/library documentation and the lecture slides, will be considered fraud.\n",
    " * Do not use libraries that implement the assignment for you. Ask a TA if you are unsure.\n",
    "\n",
    "**Grading**\n",
    " * Each exercise is graded using additional hidden tests. These tests will check your solution for different (unseen) inputs.\n",
    " * If the tests pass without error (warnings are allowed) then you receive full points.\n",
    " * If the tests fail or raise an exception for any reason then you receive 0 points.\n",
    " * If a test cell takes more than five minutes to complete then this is considered an error.\n",
    " * Do not make any assumptions on the input data (such as resolution) unless specified otherwise. Doing so may result in the tests failing and thus 0 points.\n",
    " * Your grade is computed as $\\frac{\\text{points}}{\\text{max_points}} * 9 + 1$ and will be rounded to the closest 0.5 point.\n",
    " * Submit your code to Brightspace as a zip file containing only the notebook (`*.ipynb`) files.\n",
    " * **Do not rename the notebook files**\n",
    " \n",
    "**Late Submissions**\n",
    " * Late submissions must be submitted *as soon as possible* to the \"Assignment 2 - Late Submissions\" assignment on Brightspace.\n",
    " * The following penalty will be applied: $\\text{adjusted grade} = \\text{grade} - 1 - \\lceil\\frac{\\text{minutes late}}{10}\\rceil$\n",
    "\n",
    "<br />\n",
    " \n",
    "**Before you submit**, make sure that you are not accidentaly using any global variables. Restart the kernel (wiping all global variables) and run the code from top to bottom by clicking \"Kernel\" => \"Restart & Run all\" in the menu bar at the top."
   ]
  },
  {
   "cell_type": "code",
   "execution_count": 2,
   "metadata": {
    "deletable": false,
    "editable": false,
    "nbgrader": {
     "cell_type": "code",
     "checksum": "251895047d7f004c0f1a7ecf6f974438",
     "grade": false,
     "grade_id": "cell-29f755dcf575380e",
     "locked": true,
     "schema_version": 3,
     "solution": false
    }
   },
   "outputs": [],
   "source": [
    "%matplotlib widget\n",
    "import matplotlib.pyplot as plt\n",
    "import numpy as np\n",
    "import cv2\n",
    "import scipy.signal\n",
    "import scipy.ndimage\n",
    "import scipy.sparse\n",
    "import os\n",
    "import sys\n",
    "sys.path.append(\"../../\")\n",
    "import helpers"
   ]
  },
  {
   "cell_type": "markdown",
   "metadata": {
    "deletable": false,
    "editable": false,
    "nbgrader": {
     "cell_type": "markdown",
     "checksum": "1924e935b228ed00f32ea6554369c47d",
     "grade": false,
     "grade_id": "cell-89b6779e67757ea5",
     "locked": true,
     "schema_version": 3,
     "solution": false
    }
   },
   "source": [
    "# Image Sharpening\n",
    "In this set of exercises we will create an image sharpening filter. Image sharpening is the opposite of blurring (which we as last week): the filter takes a (slightly) blurry image and makes it sharper (less blurry). In these assignments we will implement a sharpening filter to sharpen a picture that is slightly out of focus. Another common use case for image sharpening is on televisions. By default most televisions are configured to apply a sharpening filter to make the image look crisper (sometimes to the decrement of image quality).\n",
    "\n",
    "<!-- In the Poission image editing assignments we covered how image gradients characterize an image. By only changing the colors but not the gradients we were able to create a smooth transition without changing what was in the image. Gradients are thus play an important part in encoding image information.\n",
    "\n",
    "In the first week you learned about blur filters such as the box and Gaussian blur. A blur operation smooths edges which results in lower magnitude gradients (spread out over a larger area). The goal of image sharpening is to perform the opposite operation: reducing the \"blurryness\" of an image. A common application of image sharpening is in TVs and video games. Where a lower resolution image is upscaled to match the output resolution, resulting in a blurry image. -->\n",
    "\n",
    "## Images as vectors\n",
    "Last week you learned to think of images as a 2D (grayscale) or 3D (color) array of values. This week we will use only vector (1D) representations for both types of images. The idea is to store all pixels  (and color channels) in an image as a vector for computation. After the computation we convert the vector back into a 2D/3D array representation.\n",
    "\n",
    "There are many different possible ways to convert an image into a vector. None of them are necessarily incorrect as long as we write our filter correctly. But because of the way the grading/testing system works we will use one specific way of converting to/from a vector representation. Please use a vector representation which is the concatenation of the rows of an image:\n",
    "\n",
    "<img src=\"pixel_numbering.png\" alt=\"Pixel numbering\" style=\"width: 25%;\"/>\n"
   ]
  },
  {
   "cell_type": "markdown",
   "metadata": {
    "deletable": false,
    "editable": false,
    "nbgrader": {
     "cell_type": "markdown",
     "checksum": "6e673e6c70e106419fba1d94a0b4d601",
     "grade": false,
     "grade_id": "cell-38a98b5c580fad5d",
     "locked": true,
     "schema_version": 3,
     "solution": false,
     "task": false
    }
   },
   "source": [
    "## Sharpening as a Linear System\n",
    "*If you need a linear algebra refresher, then have a look at:*\n",
    "https://www.tudelft.nl/en/eemcs/study/online-education/math-explained/linear-algebra/\n",
    "\n",
    "As was discussed in the lectures, we can formulate a filter by defining a problem as a linear system that we need to solve. In the case of image sharpening we want to make edges more well defined. We can achieve this by amplifying the gradient vectors and from that computing a new image. We have to make sure however that we do not significantly change the colors by doing so.\n",
    "\n",
    "Let's define $U$ as our new image vector, $\\tilde{U}$ as our input image vector, $G$ as the gradient matrix and $c_s$ as the factor with which we want to scale the gradients. The gradient matrix computes a gradient vector from an image vector. A gradient vector defines the gradients between the pixels of the image represented by an image vector. We want to define our problem as an optimization problem where we want to find a new image whose colors match the original image but where the gradients are amplified. We can formulate this as follows (shortening the equations by replacing $\\tilde{g}=G\\tilde{U}$):\n",
    "\n",
    "$$\n",
    "\\begin{align}\n",
    "& \\underset{U}{\\text{minimize}}\n",
    "& & f(U) = {\\lvert GU - c_sG\\tilde{U} \\rvert}^2 = {\\lvert GU - c_s\\tilde{g} \\rvert}^2 \\\\\n",
    "& \\text{subject to}\n",
    "& & \\lvert U - \\tilde{U} \\rvert = 0\n",
    "\\end{align}\n",
    "$$\n",
    "\n",
    "To formulate this optimization problem as a linear system we need to relax our constraints:\n",
    "\n",
    "$$\n",
    "\\begin{align}\n",
    "& \\underset{U}{\\text{minimize}}\n",
    "& & f(U) = {\\lvert GU - c_s\\tilde{g} \\rvert}^2 + C_{\\tilde{U}} {\\lvert U - \\tilde{U} \\rvert}^2\n",
    "\\end{align}\n",
    "$$\n",
    "\n",
    "Here $c_{\\tilde{u}}$ is a constant used to scale the importance of the soft constraints ($c_{\\tilde{u}}=\\infty$ would result in a hard constraint). We want to find the minimum of function $f(U)$. We know that at the minimum the derivative $f'(U) = 0$. Using this knowledge we can transform the problem into a linear system:\n",
    "\n",
    "$$\n",
    "\\begin{align}\n",
    "f(U) &= {\\lvert GU - c_s\\tilde{g} \\rvert}^2 + c_{\\tilde{U}} {\\lvert U - \\tilde{U} \\rvert}^2 \\\\\n",
    "     &=  U^\\intercal G^\\intercal GU - 2c_sU^\\intercal G^\\intercal \\tilde{g} + {c_s}^2 \\tilde{g}^\\intercal \\tilde{g} + c_{\\tilde{U}} ({U^\\intercal U + 2U^\\intercal \\tilde{U} + \\tilde{U}^\\intercal \\tilde{U}}) \\\\\n",
    "     &= U^\\intercal (G^\\intercal G + c_{\\tilde{U}} I)U - 2U^\\intercal (c_s G^\\intercal \\tilde{g} + c_{\\tilde{U}} \\tilde{U}) + {c_s}^2 \\tilde{g}^\\intercal \\tilde{g} + c_{\\tilde{U}} \\tilde{U}^\\intercal \\tilde{U} \\\\\n",
    "\\\\\n",
    "f'(U) &= 2(G^\\intercal G + c_{\\tilde{U}} I)U - 2(c_s G^\\intercal \\tilde{g} + c_{\\tilde{U}} \\tilde{U}) \\\\\n",
    "\\end{align}\n",
    "$$\n",
    "\n",
    "$$\n",
    "\\begin{align}\n",
    "2(G^\\intercal G + c_{\\tilde{U}} I)U - 2(c_s G^\\intercal \\tilde{g} + c_{\\tilde{U}} \\tilde{U}) &= 0 \\\\\n",
    "(G^\\intercal G + c_{\\tilde{U}} I)U &= c_s G^\\intercal \\tilde{g} + c_{\\tilde{U}} \\tilde{U} \\\\\n",
    "\\end{align}\n",
    "$$\n",
    "\n",
    "In this formula $I$ is an identity matrix (`1` on the diagonal, `0` everywhere else) with as many rows and columns as there are pixels.\n",
    "\n",
    "\n",
    "### Image Gradients\n",
    "There are many different ways in which order the gradients may appear in the gradient vector. Again we ask you to strictly adhere to the following definition so we don't have to manually test your solution.\n",
    "\n",
    "Without the restrictions of convolutions we can now define gradients *between* pixels instead of at pixels. We compute the gradient as follows: $g_x(x+0.5, y) = \\frac{1}{2}(I(x+1, y) - I(x,y)$ and $g_y(x, y+0.5) = \\frac{1}{2}(I(x, y+1) - I(x, y) )$. Because we define gradients between neighbouring pixel pairs we will have $\\#g_x + \\#g_y = (\\text{width}-1) \\cdot \\text{height} + \\text{width} \\cdot (\\text{height}-1)$ gradient values in total.\n",
    "\n",
    "<!-- https://stackoverflow.com/questions/24319505/how-can-one-display-images-side-by-side-in-a-github-readme-md -->\n",
    "Gradient X           |  Gradient Y\n",
    ":-------------------------:|:-------------------------:\n",
    "![](gradient_x.png)  |  ![](gradient_y.png)\n",
    "\n",
    "## Exercise 1 (1 point)\n",
    "Implement a function which construct the gradient matrix for images of a given shape. Make sure that you adhere to the format specified above. Use `scipy.sparse.lil_matrix((num_rows, num_columns))` to construct a sparse matrix and convert it to a `scipy.sparse.csr_matrix` before returning it. A `lil_matrix` can be accessed just like a regular numpy array.\n",
    "\n",
    "**WARNING**: the grading script requires the entries in the gradient *vector* to be ordered in one specific way. The gradient *vector* should contain all $g_x^i$ followed by all $g_y^i$ (so $g=(g_x^0, ..., g_x^n, g_y^0, ..., g_y^n)^T$). The $g_x$ and $g_y$ values should be ordered from left to right and from top to bottom. Make sure to use this notation in both notebooks."
   ]
  },
  {
   "cell_type": "code",
   "execution_count": 27,
   "metadata": {
    "deletable": false,
    "nbgrader": {
     "cell_type": "code",
     "checksum": "b00a779b93bfa9f8166ad0df66a507d0",
     "grade": false,
     "grade_id": "exercise1_code",
     "locked": false,
     "schema_version": 3,
     "solution": true
    }
   },
   "outputs": [],
   "source": [
    "def construct_G(width, height):\n",
    "    # Construct a sparse matrix with the specified dimensions\n",
    "    gradsx = (width - 1)*height\n",
    "    gradsy = (height - 1)*width\n",
    "    G = scipy.sparse.lil_matrix((gradsx, gradsy))\n",
    "\n",
    "    # # Loop through all rows and columns in the image\n",
    "    # for i in range(gradsx):\n",
    "    #     for j in range(gradsy):\n",
    "    #         # If we are not at the first or last row, set the entry in the matrix\n",
    "    #         # corresponding to the gradient in the x-direction\n",
    "    #         if i > 0 and i < gradsy:\n",
    "    #             G[i * width + j, i * width + j] = 1\n",
    "    #             G[i * width + j, (i - 1) * width + j] = -1\n",
    "            \n",
    "    #         # If we are not at the first or last column, set the entry in the matrix\n",
    "    #         # corresponding to the gradient in the y-direction\n",
    "    #         if j > 0 and j < width - 1:\n",
    "    #             G[i * width + j, i * width + j] = 1\n",
    "    #             G[i * width + j, i * width + j - 1] = -1\n",
    "    my_array = np.arange(width*height)\n",
    "    arr_indices_x = np.arange(width - 1, width*height, width)\n",
    "    arr_indices_x = np.setdiff1d(my_array, arr_indices_x)\n",
    "    indices_x = my_array[arr_indices_x]\n",
    "\n",
    "    for i in range(gradsx):\n",
    "        G[i, indices_x[i]] = -1\n",
    "        G[i, indices_x[i] + 1] = 1\n",
    "    for j in range(gradsy):\n",
    "        G[j + gradsx, j] = -1\n",
    "        G[j + gradsx, j + width] = 1\n",
    "\n",
    "    # return 0.5*scipy.sparse.csr_matrix(G)\n",
    "\n",
    "    # Convert scipy.sparse.lil_matrix to scipy.sparse.csr_matrix for efficient processing\n",
    "    return scipy.sparse.csr_matrix(G)\n"
   ]
  },
  {
   "cell_type": "markdown",
   "metadata": {
    "deletable": false,
    "editable": false,
    "nbgrader": {
     "cell_type": "markdown",
     "checksum": "c9df9d3a2706c683ae8eee1c1db3d84f",
     "grade": false,
     "grade_id": "cell-2e4312b409680f70",
     "locked": true,
     "schema_version": 3,
     "solution": false,
     "task": false
    }
   },
   "source": [
    "### Testing your solution of exercise 1\n",
    "The following visualization helps you to validate whether the gradients that you have computed are correct. The $G_x$ and $G_y$ images show the horizontal and vertical derivatives (scaled by a factor of 5 for improved visibility) as computed by your gradient matrix.\n",
    "\n",
    "Below there are a couple simple tests to verify some basic requirements."
   ]
  },
  {
   "cell_type": "code",
   "execution_count": 28,
   "metadata": {
    "deletable": false,
    "editable": false,
    "nbgrader": {
     "cell_type": "code",
     "checksum": "c83e5a609833bd8db6cd2f74da96ad3f",
     "grade": false,
     "grade_id": "cell-1d0e1fa58c2872ab",
     "locked": true,
     "schema_version": 3,
     "solution": false,
     "task": false
    }
   },
   "outputs": [
    {
     "ename": "IndexError",
     "evalue": "column index (41385) out of bounds",
     "output_type": "error",
     "traceback": [
      "\u001b[0;31m---------------------------------------------------------------------------\u001b[0m",
      "\u001b[0;31mIndexError\u001b[0m                                Traceback (most recent call last)",
      "\u001b[0;32m/var/folders/60/n0m1b04566911rt2srmxb2zc0000gn/T/ipykernel_91554/2326195642.py\u001b[0m in \u001b[0;36m<module>\u001b[0;34m\u001b[0m\n\u001b[1;32m     28\u001b[0m \u001b[0;34m\u001b[0m\u001b[0m\n\u001b[1;32m     29\u001b[0m \u001b[0mimage_vector\u001b[0m \u001b[0;34m=\u001b[0m \u001b[0mconstruct_U\u001b[0m\u001b[0;34m(\u001b[0m\u001b[0mblurry_grayscale\u001b[0m\u001b[0;34m)\u001b[0m\u001b[0;34m\u001b[0m\u001b[0;34m\u001b[0m\u001b[0m\n\u001b[0;32m---> 30\u001b[0;31m \u001b[0mgradient_vector\u001b[0m \u001b[0;34m=\u001b[0m \u001b[0mconstruct_G\u001b[0m\u001b[0;34m(\u001b[0m\u001b[0mwidth\u001b[0m\u001b[0;34m,\u001b[0m \u001b[0mheight\u001b[0m\u001b[0;34m)\u001b[0m \u001b[0;34m@\u001b[0m \u001b[0mimage_vector\u001b[0m\u001b[0;34m\u001b[0m\u001b[0;34m\u001b[0m\u001b[0m\n\u001b[0m\u001b[1;32m     31\u001b[0m \u001b[0;34m\u001b[0m\u001b[0m\n\u001b[1;32m     32\u001b[0m \u001b[0mgx_image\u001b[0m \u001b[0;34m=\u001b[0m \u001b[0mgradient_vector_to_image_gx\u001b[0m\u001b[0;34m(\u001b[0m\u001b[0mgradient_vector\u001b[0m\u001b[0;34m,\u001b[0m \u001b[0mwidth\u001b[0m\u001b[0;34m,\u001b[0m \u001b[0mheight\u001b[0m\u001b[0;34m)\u001b[0m\u001b[0;34m\u001b[0m\u001b[0;34m\u001b[0m\u001b[0m\n",
      "\u001b[0;32m/var/folders/60/n0m1b04566911rt2srmxb2zc0000gn/T/ipykernel_91554/2787486339.py\u001b[0m in \u001b[0;36mconstruct_G\u001b[0;34m(width, height)\u001b[0m\n\u001b[1;32m     25\u001b[0m \u001b[0;34m\u001b[0m\u001b[0m\n\u001b[1;32m     26\u001b[0m     \u001b[0;32mfor\u001b[0m \u001b[0mi\u001b[0m \u001b[0;32min\u001b[0m \u001b[0mrange\u001b[0m\u001b[0;34m(\u001b[0m\u001b[0mgradsx\u001b[0m\u001b[0;34m)\u001b[0m\u001b[0;34m:\u001b[0m\u001b[0;34m\u001b[0m\u001b[0;34m\u001b[0m\u001b[0m\n\u001b[0;32m---> 27\u001b[0;31m         \u001b[0mG\u001b[0m\u001b[0;34m[\u001b[0m\u001b[0mi\u001b[0m\u001b[0;34m,\u001b[0m \u001b[0mindices_x\u001b[0m\u001b[0;34m[\u001b[0m\u001b[0mi\u001b[0m\u001b[0;34m]\u001b[0m\u001b[0;34m]\u001b[0m \u001b[0;34m=\u001b[0m \u001b[0;34m-\u001b[0m\u001b[0;36m1\u001b[0m\u001b[0;34m\u001b[0m\u001b[0;34m\u001b[0m\u001b[0m\n\u001b[0m\u001b[1;32m     28\u001b[0m         \u001b[0mG\u001b[0m\u001b[0;34m[\u001b[0m\u001b[0mi\u001b[0m\u001b[0;34m,\u001b[0m \u001b[0mindices_x\u001b[0m\u001b[0;34m[\u001b[0m\u001b[0mi\u001b[0m\u001b[0;34m]\u001b[0m \u001b[0;34m+\u001b[0m \u001b[0;36m1\u001b[0m\u001b[0;34m]\u001b[0m \u001b[0;34m=\u001b[0m \u001b[0;36m1\u001b[0m\u001b[0;34m\u001b[0m\u001b[0;34m\u001b[0m\u001b[0m\n\u001b[1;32m     29\u001b[0m     \u001b[0;32mfor\u001b[0m \u001b[0mj\u001b[0m \u001b[0;32min\u001b[0m \u001b[0mrange\u001b[0m\u001b[0;34m(\u001b[0m\u001b[0mgradsy\u001b[0m\u001b[0;34m)\u001b[0m\u001b[0;34m:\u001b[0m\u001b[0;34m\u001b[0m\u001b[0;34m\u001b[0m\u001b[0m\n",
      "\u001b[0;32m/Library/Frameworks/Python.framework/Versions/3.9/lib/python3.9/site-packages/scipy/sparse/lil.py\u001b[0m in \u001b[0;36m__setitem__\u001b[0;34m(self, key, x)\u001b[0m\n\u001b[1;32m    329\u001b[0m             \u001b[0;32mif\u001b[0m \u001b[0mx\u001b[0m\u001b[0;34m.\u001b[0m\u001b[0msize\u001b[0m \u001b[0;34m>\u001b[0m \u001b[0;36m1\u001b[0m\u001b[0;34m:\u001b[0m\u001b[0;34m\u001b[0m\u001b[0;34m\u001b[0m\u001b[0m\n\u001b[1;32m    330\u001b[0m                 \u001b[0;32mraise\u001b[0m \u001b[0mValueError\u001b[0m\u001b[0;34m(\u001b[0m\u001b[0;34m\"Trying to assign a sequence to an item\"\u001b[0m\u001b[0;34m)\u001b[0m\u001b[0;34m\u001b[0m\u001b[0;34m\u001b[0m\u001b[0m\n\u001b[0;32m--> 331\u001b[0;31m             \u001b[0;32mreturn\u001b[0m \u001b[0mself\u001b[0m\u001b[0;34m.\u001b[0m\u001b[0m_set_intXint\u001b[0m\u001b[0;34m(\u001b[0m\u001b[0mkey\u001b[0m\u001b[0;34m[\u001b[0m\u001b[0;36m0\u001b[0m\u001b[0;34m]\u001b[0m\u001b[0;34m,\u001b[0m \u001b[0mkey\u001b[0m\u001b[0;34m[\u001b[0m\u001b[0;36m1\u001b[0m\u001b[0;34m]\u001b[0m\u001b[0;34m,\u001b[0m \u001b[0mx\u001b[0m\u001b[0;34m)\u001b[0m\u001b[0;34m\u001b[0m\u001b[0;34m\u001b[0m\u001b[0m\n\u001b[0m\u001b[1;32m    332\u001b[0m         \u001b[0;31m# Everything else takes the normal path.\u001b[0m\u001b[0;34m\u001b[0m\u001b[0;34m\u001b[0m\u001b[0m\n\u001b[1;32m    333\u001b[0m         \u001b[0mIndexMixin\u001b[0m\u001b[0;34m.\u001b[0m\u001b[0m__setitem__\u001b[0m\u001b[0;34m(\u001b[0m\u001b[0mself\u001b[0m\u001b[0;34m,\u001b[0m \u001b[0mkey\u001b[0m\u001b[0;34m,\u001b[0m \u001b[0mx\u001b[0m\u001b[0;34m)\u001b[0m\u001b[0;34m\u001b[0m\u001b[0;34m\u001b[0m\u001b[0m\n",
      "\u001b[0;32m/Library/Frameworks/Python.framework/Versions/3.9/lib/python3.9/site-packages/scipy/sparse/lil.py\u001b[0m in \u001b[0;36m_set_intXint\u001b[0;34m(self, row, col, x)\u001b[0m\n\u001b[1;32m    298\u001b[0m \u001b[0;34m\u001b[0m\u001b[0m\n\u001b[1;32m    299\u001b[0m     \u001b[0;32mdef\u001b[0m \u001b[0m_set_intXint\u001b[0m\u001b[0;34m(\u001b[0m\u001b[0mself\u001b[0m\u001b[0;34m,\u001b[0m \u001b[0mrow\u001b[0m\u001b[0;34m,\u001b[0m \u001b[0mcol\u001b[0m\u001b[0;34m,\u001b[0m \u001b[0mx\u001b[0m\u001b[0;34m)\u001b[0m\u001b[0;34m:\u001b[0m\u001b[0;34m\u001b[0m\u001b[0;34m\u001b[0m\u001b[0m\n\u001b[0;32m--> 300\u001b[0;31m         _csparsetools.lil_insert(self.shape[0], self.shape[1], self.rows,\n\u001b[0m\u001b[1;32m    301\u001b[0m                                  self.data, row, col, x)\n\u001b[1;32m    302\u001b[0m \u001b[0;34m\u001b[0m\u001b[0m\n",
      "\u001b[0;32m_csparsetools.pyx\u001b[0m in \u001b[0;36mscipy.sparse._csparsetools.lil_insert\u001b[0;34m()\u001b[0m\n",
      "\u001b[0;32m_csparsetools.pyx\u001b[0m in \u001b[0;36mscipy.sparse._csparsetools.lil_insert\u001b[0;34m()\u001b[0m\n",
      "\u001b[0;31mIndexError\u001b[0m: column index (41385) out of bounds"
     ]
    }
   ],
   "source": [
    "def construct_U(color_channel):\n",
    "    # Creates image vector\n",
    "    return color_channel.flatten()\n",
    "\n",
    "def gradient_vector_to_image_gx(g, width ,height):\n",
    "    out = np.zeros((height, width-1))\n",
    "    \n",
    "    for y in range (height):\n",
    "        for x in range(width-1):\n",
    "            index = y * (width - 1) + x\n",
    "            out[y, x] = g[index]\n",
    "            \n",
    "    return out\n",
    "\n",
    "def gradient_vector_to_image_gy(g, width ,height):\n",
    "    out = np.zeros((height-1, width))\n",
    "    \n",
    "    num_gx = (width-1) * height\n",
    "    for y in range (height-1):\n",
    "        for x in range(width):\n",
    "            index = num_gx + y * width + x\n",
    "            out[y, x] = g[index]\n",
    "            \n",
    "    return out\n",
    "\n",
    "blurry_grayscale = helpers.imread_normalized_float_grayscale(os.path.join(helpers.dataset_folder, \"week2\", \"image sharpening\", \"cricket\", \"blurry.png\"), 0.25)\n",
    "height, width = blurry_grayscale.shape\n",
    "\n",
    "image_vector = construct_U(blurry_grayscale)\n",
    "gradient_vector = construct_G(width, height) @ image_vector\n",
    "\n",
    "gx_image = gradient_vector_to_image_gx(gradient_vector, width, height)\n",
    "gy_image = gradient_vector_to_image_gy(gradient_vector, width, height)\n",
    "\n",
    "# Increase contrast\n",
    "gx_image = np.clip(5 * gx_image, 0, 1)\n",
    "gy_image = np.clip(5 * gy_image, 0, 1)\n",
    "\n",
    "helpers.show_images({ \"Input\": blurry_grayscale, \"Gx (your solution)\": gx_image, \"Gy (your solution)\": gy_image }, nrows=1, ncols=3)"
   ]
  },
  {
   "cell_type": "code",
   "execution_count": null,
   "metadata": {
    "deletable": false,
    "editable": false,
    "nbgrader": {
     "cell_type": "code",
     "checksum": "a3ea17e8f496d52d8adb1f4777028dd5",
     "grade": true,
     "grade_id": "exercise1",
     "locked": true,
     "points": 2,
     "schema_version": 3,
     "solution": false
    }
   },
   "outputs": [],
   "source": [
    "# Simple tests (constructing G for a 4x4 image)\n",
    "w = h = 4\n",
    "G = construct_G(w, h)\n",
    "\n",
    "num_pixels = w * h\n",
    "num_gradient_components = (w-1)*h + w*(h-1)\n",
    "assert(G.shape == (num_gradient_components, num_pixels))\n",
    "# The first horizontal gradient (between pixels 0 and 1)\n",
    "assert(G[0,0] == -0.5)\n",
    "assert(G[0,1] == 0.5)\n",
    "\n",
    "# DO NOT REMOVE THIS CELL"
   ]
  },
  {
   "cell_type": "markdown",
   "metadata": {
    "deletable": false,
    "editable": false,
    "nbgrader": {
     "cell_type": "markdown",
     "checksum": "cbf6c58119521086a6fe5e58b4aecb9b",
     "grade": false,
     "grade_id": "cell-cd22a12acea15c3d",
     "locked": true,
     "schema_version": 3,
     "solution": false,
     "task": false
    }
   },
   "source": [
    "## Exercise 2 (1 point)\n",
    "Implement the sharpening filter as was described earlier. The function should take a (2D) image of a single color channel and should output a sharpened (2D) image for that color channel. The function that applies this operation to each of the color channels is provided for you.\n",
    "\n",
    "Make use of `construct_U()` to convert an image to a vector and `construct_I()` to create an identity matrix. Use `scipy.sparse.linalg.spsolve()` ([documentation](https://docs.scipy.org/doc/scipy/reference/sparse.linalg.html)) to solve the linear system (solve for $\\vec{x}$ in $A\\vec{x}=\\vec{b}$).\n",
    "\n",
    "**NOTE**: For grading we use the reference implementation of `construct_G()` to ensure that you are not punished for mistakes in the previous exercise."
   ]
  },
  {
   "cell_type": "code",
   "execution_count": 16,
   "metadata": {
    "deletable": false,
    "nbgrader": {
     "cell_type": "code",
     "checksum": "f7ddc547a80732576bd473a71d02079e",
     "grade": false,
     "grade_id": "exercise2_correct",
     "locked": false,
     "schema_version": 3,
     "solution": true,
     "task": false
    }
   },
   "outputs": [
    {
     "ename": "IndexError",
     "evalue": "column index (41272) out of bounds",
     "output_type": "error",
     "traceback": [
      "\u001b[0;31m---------------------------------------------------------------------------\u001b[0m",
      "\u001b[0;31mIndexError\u001b[0m                                Traceback (most recent call last)",
      "\u001b[0;32m/var/folders/60/n0m1b04566911rt2srmxb2zc0000gn/T/ipykernel_91554/396590168.py\u001b[0m in \u001b[0;36m<module>\u001b[0;34m\u001b[0m\n\u001b[1;32m     27\u001b[0m \u001b[0;34m\u001b[0m\u001b[0m\n\u001b[1;32m     28\u001b[0m \u001b[0mblurry_rgb\u001b[0m \u001b[0;34m=\u001b[0m \u001b[0mhelpers\u001b[0m\u001b[0;34m.\u001b[0m\u001b[0mimread_normalized_float\u001b[0m\u001b[0;34m(\u001b[0m\u001b[0mos\u001b[0m\u001b[0;34m.\u001b[0m\u001b[0mpath\u001b[0m\u001b[0;34m.\u001b[0m\u001b[0mjoin\u001b[0m\u001b[0;34m(\u001b[0m\u001b[0mhelpers\u001b[0m\u001b[0;34m.\u001b[0m\u001b[0mdataset_folder\u001b[0m\u001b[0;34m,\u001b[0m \u001b[0;34m\"week2\"\u001b[0m\u001b[0;34m,\u001b[0m \u001b[0;34m\"image sharpening\"\u001b[0m\u001b[0;34m,\u001b[0m \u001b[0;34m\"cricket\"\u001b[0m\u001b[0;34m,\u001b[0m \u001b[0;34m\"blurry.png\"\u001b[0m\u001b[0;34m)\u001b[0m\u001b[0;34m,\u001b[0m \u001b[0;36m0.25\u001b[0m\u001b[0;34m)\u001b[0m\u001b[0;34m\u001b[0m\u001b[0;34m\u001b[0m\u001b[0m\n\u001b[0;32m---> 29\u001b[0;31m \u001b[0msharpened_rgb\u001b[0m \u001b[0;34m=\u001b[0m \u001b[0mnp\u001b[0m\u001b[0;34m.\u001b[0m\u001b[0mclip\u001b[0m\u001b[0;34m(\u001b[0m\u001b[0msharpen_image\u001b[0m\u001b[0;34m(\u001b[0m\u001b[0mblurry_rgb\u001b[0m\u001b[0;34m,\u001b[0m \u001b[0;36m3\u001b[0m\u001b[0;34m,\u001b[0m \u001b[0;36m0.5\u001b[0m\u001b[0;34m)\u001b[0m\u001b[0;34m,\u001b[0m \u001b[0;36m0\u001b[0m\u001b[0;34m,\u001b[0m \u001b[0;36m1\u001b[0m\u001b[0;34m)\u001b[0m\u001b[0;34m\u001b[0m\u001b[0;34m\u001b[0m\u001b[0m\n\u001b[0m\u001b[1;32m     30\u001b[0m \u001b[0mhelpers\u001b[0m\u001b[0;34m.\u001b[0m\u001b[0mshow_images\u001b[0m\u001b[0;34m(\u001b[0m\u001b[0;34m{\u001b[0m \u001b[0;34m\"Input\"\u001b[0m\u001b[0;34m:\u001b[0m \u001b[0mblurry_rgb\u001b[0m\u001b[0;34m,\u001b[0m \u001b[0;34m\"Sharpened (your solution)\"\u001b[0m\u001b[0;34m:\u001b[0m \u001b[0msharpened_rgb\u001b[0m \u001b[0;34m}\u001b[0m\u001b[0;34m,\u001b[0m \u001b[0mnrows\u001b[0m\u001b[0;34m=\u001b[0m\u001b[0;36m1\u001b[0m\u001b[0;34m,\u001b[0m \u001b[0mncols\u001b[0m\u001b[0;34m=\u001b[0m\u001b[0;36m2\u001b[0m\u001b[0;34m)\u001b[0m\u001b[0;34m\u001b[0m\u001b[0;34m\u001b[0m\u001b[0m\n",
      "\u001b[0;32m/var/folders/60/n0m1b04566911rt2srmxb2zc0000gn/T/ipykernel_91554/396590168.py\u001b[0m in \u001b[0;36msharpen_image\u001b[0;34m(image, cs, cu)\u001b[0m\n\u001b[1;32m     20\u001b[0m \u001b[0;34m\u001b[0m\u001b[0m\n\u001b[1;32m     21\u001b[0m \u001b[0;32mdef\u001b[0m \u001b[0msharpen_image\u001b[0m\u001b[0;34m(\u001b[0m\u001b[0mimage\u001b[0m\u001b[0;34m,\u001b[0m \u001b[0mcs\u001b[0m\u001b[0;34m,\u001b[0m \u001b[0mcu\u001b[0m\u001b[0;34m)\u001b[0m\u001b[0;34m:\u001b[0m\u001b[0;34m\u001b[0m\u001b[0;34m\u001b[0m\u001b[0m\n\u001b[0;32m---> 22\u001b[0;31m     \u001b[0mred_channel\u001b[0m \u001b[0;34m=\u001b[0m \u001b[0msharpen_color_channel\u001b[0m\u001b[0;34m(\u001b[0m\u001b[0mimage\u001b[0m\u001b[0;34m[\u001b[0m\u001b[0;34m:\u001b[0m\u001b[0;34m,\u001b[0m\u001b[0;34m:\u001b[0m\u001b[0;34m,\u001b[0m\u001b[0;36m0\u001b[0m\u001b[0;34m]\u001b[0m\u001b[0;34m,\u001b[0m \u001b[0mcs\u001b[0m\u001b[0;34m,\u001b[0m \u001b[0mcu\u001b[0m\u001b[0;34m)\u001b[0m\u001b[0;34m\u001b[0m\u001b[0;34m\u001b[0m\u001b[0m\n\u001b[0m\u001b[1;32m     23\u001b[0m     \u001b[0mgreen_channel\u001b[0m \u001b[0;34m=\u001b[0m \u001b[0msharpen_color_channel\u001b[0m\u001b[0;34m(\u001b[0m\u001b[0mimage\u001b[0m\u001b[0;34m[\u001b[0m\u001b[0;34m:\u001b[0m\u001b[0;34m,\u001b[0m\u001b[0;34m:\u001b[0m\u001b[0;34m,\u001b[0m\u001b[0;36m1\u001b[0m\u001b[0;34m]\u001b[0m\u001b[0;34m,\u001b[0m \u001b[0mcs\u001b[0m\u001b[0;34m,\u001b[0m \u001b[0mcu\u001b[0m\u001b[0;34m)\u001b[0m\u001b[0;34m\u001b[0m\u001b[0;34m\u001b[0m\u001b[0m\n\u001b[1;32m     24\u001b[0m     \u001b[0mblue_channel\u001b[0m \u001b[0;34m=\u001b[0m \u001b[0msharpen_color_channel\u001b[0m\u001b[0;34m(\u001b[0m\u001b[0mimage\u001b[0m\u001b[0;34m[\u001b[0m\u001b[0;34m:\u001b[0m\u001b[0;34m,\u001b[0m\u001b[0;34m:\u001b[0m\u001b[0;34m,\u001b[0m\u001b[0;36m2\u001b[0m\u001b[0;34m]\u001b[0m\u001b[0;34m,\u001b[0m \u001b[0mcs\u001b[0m\u001b[0;34m,\u001b[0m \u001b[0mcu\u001b[0m\u001b[0;34m)\u001b[0m\u001b[0;34m\u001b[0m\u001b[0;34m\u001b[0m\u001b[0m\n",
      "\u001b[0;32m/var/folders/60/n0m1b04566911rt2srmxb2zc0000gn/T/ipykernel_91554/396590168.py\u001b[0m in \u001b[0;36msharpen_color_channel\u001b[0;34m(color_channel, cs, cu)\u001b[0m\n\u001b[1;32m      7\u001b[0m \u001b[0;32mdef\u001b[0m \u001b[0msharpen_color_channel\u001b[0m\u001b[0;34m(\u001b[0m\u001b[0mcolor_channel\u001b[0m\u001b[0;34m,\u001b[0m \u001b[0mcs\u001b[0m\u001b[0;34m,\u001b[0m \u001b[0mcu\u001b[0m\u001b[0;34m)\u001b[0m\u001b[0;34m:\u001b[0m\u001b[0;34m\u001b[0m\u001b[0;34m\u001b[0m\u001b[0m\n\u001b[1;32m      8\u001b[0m     \u001b[0mshape\u001b[0m \u001b[0;34m=\u001b[0m \u001b[0mcolor_channel\u001b[0m\u001b[0;34m.\u001b[0m\u001b[0mshape\u001b[0m\u001b[0;34m\u001b[0m\u001b[0;34m\u001b[0m\u001b[0m\n\u001b[0;32m----> 9\u001b[0;31m     \u001b[0mG\u001b[0m \u001b[0;34m=\u001b[0m \u001b[0mconstruct_G\u001b[0m\u001b[0;34m(\u001b[0m\u001b[0mshape\u001b[0m\u001b[0;34m[\u001b[0m\u001b[0;36m0\u001b[0m\u001b[0;34m]\u001b[0m\u001b[0;34m,\u001b[0m \u001b[0mshape\u001b[0m\u001b[0;34m[\u001b[0m\u001b[0;36m1\u001b[0m\u001b[0;34m]\u001b[0m\u001b[0;34m)\u001b[0m\u001b[0;34m\u001b[0m\u001b[0;34m\u001b[0m\u001b[0m\n\u001b[0m\u001b[1;32m     10\u001b[0m     \u001b[0mGt_G\u001b[0m \u001b[0;34m=\u001b[0m \u001b[0mG\u001b[0m\u001b[0;34m.\u001b[0m\u001b[0mT\u001b[0m \u001b[0;34m@\u001b[0m \u001b[0mG\u001b[0m\u001b[0;34m\u001b[0m\u001b[0;34m\u001b[0m\u001b[0m\n\u001b[1;32m     11\u001b[0m     \u001b[0mI\u001b[0m \u001b[0;34m=\u001b[0m \u001b[0mconstruct_I\u001b[0m\u001b[0;34m(\u001b[0m\u001b[0mGt_G\u001b[0m\u001b[0;34m.\u001b[0m\u001b[0mshape\u001b[0m\u001b[0;34m[\u001b[0m\u001b[0;36m0\u001b[0m\u001b[0;34m]\u001b[0m\u001b[0;34m)\u001b[0m\u001b[0;34m\u001b[0m\u001b[0;34m\u001b[0m\u001b[0m\n",
      "\u001b[0;32m/var/folders/60/n0m1b04566911rt2srmxb2zc0000gn/T/ipykernel_91554/924157741.py\u001b[0m in \u001b[0;36mconstruct_G\u001b[0;34m(width, height)\u001b[0m\n\u001b[1;32m     26\u001b[0m \u001b[0;34m\u001b[0m\u001b[0m\n\u001b[1;32m     27\u001b[0m     \u001b[0;32mfor\u001b[0m \u001b[0mi\u001b[0m \u001b[0;32min\u001b[0m \u001b[0mrange\u001b[0m\u001b[0;34m(\u001b[0m\u001b[0mgradsx\u001b[0m\u001b[0;34m)\u001b[0m\u001b[0;34m:\u001b[0m\u001b[0;34m\u001b[0m\u001b[0;34m\u001b[0m\u001b[0m\n\u001b[0;32m---> 28\u001b[0;31m         \u001b[0mG\u001b[0m\u001b[0;34m[\u001b[0m\u001b[0mi\u001b[0m\u001b[0;34m,\u001b[0m \u001b[0mindices_x\u001b[0m\u001b[0;34m[\u001b[0m\u001b[0mi\u001b[0m\u001b[0;34m]\u001b[0m\u001b[0;34m]\u001b[0m \u001b[0;34m=\u001b[0m \u001b[0;34m-\u001b[0m\u001b[0;36m1\u001b[0m\u001b[0;34m\u001b[0m\u001b[0;34m\u001b[0m\u001b[0m\n\u001b[0m\u001b[1;32m     29\u001b[0m         \u001b[0mG\u001b[0m\u001b[0;34m[\u001b[0m\u001b[0mi\u001b[0m\u001b[0;34m,\u001b[0m \u001b[0mindices_x\u001b[0m\u001b[0;34m[\u001b[0m\u001b[0mi\u001b[0m\u001b[0;34m]\u001b[0m \u001b[0;34m+\u001b[0m \u001b[0;36m1\u001b[0m\u001b[0;34m]\u001b[0m \u001b[0;34m=\u001b[0m \u001b[0;36m1\u001b[0m\u001b[0;34m\u001b[0m\u001b[0;34m\u001b[0m\u001b[0m\n\u001b[1;32m     30\u001b[0m     \u001b[0;32mfor\u001b[0m \u001b[0mj\u001b[0m \u001b[0;32min\u001b[0m \u001b[0mrange\u001b[0m\u001b[0;34m(\u001b[0m\u001b[0mgradsy\u001b[0m\u001b[0;34m)\u001b[0m\u001b[0;34m:\u001b[0m\u001b[0;34m\u001b[0m\u001b[0;34m\u001b[0m\u001b[0m\n",
      "\u001b[0;32m/Library/Frameworks/Python.framework/Versions/3.9/lib/python3.9/site-packages/scipy/sparse/lil.py\u001b[0m in \u001b[0;36m__setitem__\u001b[0;34m(self, key, x)\u001b[0m\n\u001b[1;32m    329\u001b[0m             \u001b[0;32mif\u001b[0m \u001b[0mx\u001b[0m\u001b[0;34m.\u001b[0m\u001b[0msize\u001b[0m \u001b[0;34m>\u001b[0m \u001b[0;36m1\u001b[0m\u001b[0;34m:\u001b[0m\u001b[0;34m\u001b[0m\u001b[0;34m\u001b[0m\u001b[0m\n\u001b[1;32m    330\u001b[0m                 \u001b[0;32mraise\u001b[0m \u001b[0mValueError\u001b[0m\u001b[0;34m(\u001b[0m\u001b[0;34m\"Trying to assign a sequence to an item\"\u001b[0m\u001b[0;34m)\u001b[0m\u001b[0;34m\u001b[0m\u001b[0;34m\u001b[0m\u001b[0m\n\u001b[0;32m--> 331\u001b[0;31m             \u001b[0;32mreturn\u001b[0m \u001b[0mself\u001b[0m\u001b[0;34m.\u001b[0m\u001b[0m_set_intXint\u001b[0m\u001b[0;34m(\u001b[0m\u001b[0mkey\u001b[0m\u001b[0;34m[\u001b[0m\u001b[0;36m0\u001b[0m\u001b[0;34m]\u001b[0m\u001b[0;34m,\u001b[0m \u001b[0mkey\u001b[0m\u001b[0;34m[\u001b[0m\u001b[0;36m1\u001b[0m\u001b[0;34m]\u001b[0m\u001b[0;34m,\u001b[0m \u001b[0mx\u001b[0m\u001b[0;34m)\u001b[0m\u001b[0;34m\u001b[0m\u001b[0;34m\u001b[0m\u001b[0m\n\u001b[0m\u001b[1;32m    332\u001b[0m         \u001b[0;31m# Everything else takes the normal path.\u001b[0m\u001b[0;34m\u001b[0m\u001b[0;34m\u001b[0m\u001b[0m\n\u001b[1;32m    333\u001b[0m         \u001b[0mIndexMixin\u001b[0m\u001b[0;34m.\u001b[0m\u001b[0m__setitem__\u001b[0m\u001b[0;34m(\u001b[0m\u001b[0mself\u001b[0m\u001b[0;34m,\u001b[0m \u001b[0mkey\u001b[0m\u001b[0;34m,\u001b[0m \u001b[0mx\u001b[0m\u001b[0;34m)\u001b[0m\u001b[0;34m\u001b[0m\u001b[0;34m\u001b[0m\u001b[0m\n",
      "\u001b[0;32m/Library/Frameworks/Python.framework/Versions/3.9/lib/python3.9/site-packages/scipy/sparse/lil.py\u001b[0m in \u001b[0;36m_set_intXint\u001b[0;34m(self, row, col, x)\u001b[0m\n\u001b[1;32m    298\u001b[0m \u001b[0;34m\u001b[0m\u001b[0m\n\u001b[1;32m    299\u001b[0m     \u001b[0;32mdef\u001b[0m \u001b[0m_set_intXint\u001b[0m\u001b[0;34m(\u001b[0m\u001b[0mself\u001b[0m\u001b[0;34m,\u001b[0m \u001b[0mrow\u001b[0m\u001b[0;34m,\u001b[0m \u001b[0mcol\u001b[0m\u001b[0;34m,\u001b[0m \u001b[0mx\u001b[0m\u001b[0;34m)\u001b[0m\u001b[0;34m:\u001b[0m\u001b[0;34m\u001b[0m\u001b[0;34m\u001b[0m\u001b[0m\n\u001b[0;32m--> 300\u001b[0;31m         _csparsetools.lil_insert(self.shape[0], self.shape[1], self.rows,\n\u001b[0m\u001b[1;32m    301\u001b[0m                                  self.data, row, col, x)\n\u001b[1;32m    302\u001b[0m \u001b[0;34m\u001b[0m\u001b[0m\n",
      "\u001b[0;32m_csparsetools.pyx\u001b[0m in \u001b[0;36mscipy.sparse._csparsetools.lil_insert\u001b[0;34m()\u001b[0m\n",
      "\u001b[0;32m_csparsetools.pyx\u001b[0m in \u001b[0;36mscipy.sparse._csparsetools.lil_insert\u001b[0;34m()\u001b[0m\n",
      "\u001b[0;31mIndexError\u001b[0m: column index (41272) out of bounds"
     ]
    }
   ],
   "source": [
    "# Constructs a (n x n) identity matrix\n",
    "def construct_I(n):\n",
    "    I = scipy.sparse.lil_matrix((n, n))\n",
    "    I.setdiag(1)\n",
    "    return scipy.sparse.csr_matrix(I)\n",
    "\n",
    "def sharpen_color_channel(color_channel, cs, cu):\n",
    "    shape = color_channel.shape\n",
    "    G = construct_G(shape[0], shape[1])\n",
    "    Gt_G = G.T @ G\n",
    "    I = construct_I(Gt_G.shape[0])\n",
    "    alpha_I = cu*I\n",
    "    A = Gt_G+alpha_I\n",
    "    U_dakje = construct_U(color_channel)\n",
    "    g_dakje = G @ U_dakje\n",
    "    temp = G.T @ g_dakje\n",
    "    b = cs*temp + cu*U_dakje\n",
    "    U = scipy.sparse.linalg.spsolve(A,b)\n",
    "    return U.reshape(shape[0], shape[1])\n",
    "\n",
    "def sharpen_image(image, cs, cu):\n",
    "    red_channel = sharpen_color_channel(image[:,:,0], cs, cu)\n",
    "    green_channel = sharpen_color_channel(image[:,:,1], cs, cu)\n",
    "    blue_channel = sharpen_color_channel(image[:,:,2], cs, cu)\n",
    "    return np.stack([red_channel, green_channel, blue_channel], axis=2)\n",
    "\n",
    "\n",
    "blurry_rgb = helpers.imread_normalized_float(os.path.join(helpers.dataset_folder, \"week2\", \"image sharpening\", \"cricket\", \"blurry.png\"), 0.25)\n",
    "sharpened_rgb = np.clip(sharpen_image(blurry_rgb, 3, 0.5), 0, 1)\n",
    "helpers.show_images({ \"Input\": blurry_rgb, \"Sharpened (your solution)\": sharpened_rgb }, nrows=1, ncols=2)"
   ]
  },
  {
   "cell_type": "markdown",
   "metadata": {
    "deletable": false,
    "editable": false,
    "nbgrader": {
     "cell_type": "markdown",
     "checksum": "afbd7125a2d97a4d1e7a05a5ff21aea0",
     "grade": false,
     "grade_id": "cell-90c395a508657b58",
     "locked": true,
     "schema_version": 3,
     "solution": false,
     "task": false
    }
   },
   "source": [
    "### Testing your solution of exercise 2\n",
    "The sharpening filter should make the image have sharper edges and thus appear less blurry. The following visualization shows the gradient magnitudes of the two images. The sharpened image should have higher gradient magnitudes."
   ]
  },
  {
   "cell_type": "code",
   "execution_count": null,
   "metadata": {
    "deletable": false,
    "editable": false,
    "nbgrader": {
     "cell_type": "code",
     "checksum": "27cc669184cdd12bfefb5e5bd460d7e8",
     "grade": false,
     "grade_id": "cell-19cc8da1e9092a07",
     "locked": true,
     "schema_version": 3,
     "solution": false,
     "task": false
    }
   },
   "outputs": [],
   "source": [
    "blurry_rgb = helpers.imread_normalized_float(os.path.join(helpers.dataset_folder, \"week2\", \"image sharpening\", \"cricket\", \"blurry.png\"), 0.25)\n",
    "sharpened_rgb = np.clip(sharpen_image(blurry_rgb, 3, 0.5), 0, 1)\n",
    "\n",
    "input_gradient_magnitudes = scipy.ndimage.sobel(helpers.rgb2gray(blurry_rgb)) / 4\n",
    "sharpened_gradient_magnitudes = scipy.ndimage.sobel(helpers.rgb2gray(sharpened_rgb)) / 4\n",
    "\n",
    "helpers.show_images({\n",
    "    \"Input Gradient Magnitudes\": input_gradient_magnitudes,\n",
    "    \"Sharpened Gradient Magnitudes (your solution)\": sharpened_gradient_magnitudes\n",
    "}, nrows=1, ncols=2)"
   ]
  },
  {
   "cell_type": "code",
   "execution_count": null,
   "metadata": {
    "deletable": false,
    "editable": false,
    "nbgrader": {
     "cell_type": "code",
     "checksum": "5e5b5330e75ef986c4a7189f89581cd0",
     "grade": true,
     "grade_id": "exercise2",
     "locked": true,
     "points": 2,
     "schema_version": 3,
     "solution": false,
     "task": false
    }
   },
   "outputs": [],
   "source": [
    "# DO NOT REMOVE THIS CELL"
   ]
  }
 ],
 "metadata": {
  "kernelspec": {
   "display_name": "Python 3.9.7 64-bit",
   "language": "python",
   "name": "python3"
  },
  "language_info": {
   "codemirror_mode": {
    "name": "ipython",
    "version": 3
   },
   "file_extension": ".py",
   "mimetype": "text/x-python",
   "name": "python",
   "nbconvert_exporter": "python",
   "pygments_lexer": "ipython3",
   "version": "3.9.7"
  },
  "vscode": {
   "interpreter": {
    "hash": "aee8b7b246df8f9039afb4144a1f6fd8d2ca17a180786b69acc140d282b71a49"
   }
  }
 },
 "nbformat": 4,
 "nbformat_minor": 4
}
